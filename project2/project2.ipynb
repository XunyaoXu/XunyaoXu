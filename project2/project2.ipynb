{
 "cells": [
  {
   "cell_type": "markdown",
   "metadata": {},
   "source": [
    "## Section 1: Dataset"
   ]
  },
  {
   "cell_type": "markdown",
   "metadata": {},
   "source": [
    "This Dataset is from kaggle : https://www.kaggle.com/datasets/mlippo/average-global-iq-per-country-with-other-stats\n",
    "This project will focus the relationship between IQ, Continent, and HDI.\n",
    "This dataset is pretty interesting becuase it has a lot of information about the country, and it is a good dataset to practice data cleaning.\n",
    "Also This dataset makes me curious about whether there is a continent where people are smarter than other continents."
   ]
  },
  {
   "cell_type": "code",
   "execution_count": 2,
   "metadata": {},
   "outputs": [
    {
     "data": {
      "text/html": [
       "<div>\n",
       "<style scoped>\n",
       "    .dataframe tbody tr th:only-of-type {\n",
       "        vertical-align: middle;\n",
       "    }\n",
       "\n",
       "    .dataframe tbody tr th {\n",
       "        vertical-align: top;\n",
       "    }\n",
       "\n",
       "    .dataframe thead th {\n",
       "        text-align: right;\n",
       "    }\n",
       "</style>\n",
       "<table border=\"1\" class=\"dataframe\">\n",
       "  <thead>\n",
       "    <tr style=\"text-align: right;\">\n",
       "      <th></th>\n",
       "      <th>Rank</th>\n",
       "      <th>Country</th>\n",
       "      <th>Average IQ</th>\n",
       "      <th>Continent</th>\n",
       "      <th>Literacy Rate</th>\n",
       "      <th>HDI (2021)</th>\n",
       "      <th>Mean years of schooling - 2021</th>\n",
       "      <th>GNI - 2021</th>\n",
       "      <th>Population - 2023</th>\n",
       "    </tr>\n",
       "  </thead>\n",
       "  <tbody>\n",
       "    <tr>\n",
       "      <th>0</th>\n",
       "      <td>1</td>\n",
       "      <td>Japan</td>\n",
       "      <td>106.48</td>\n",
       "      <td>Asia</td>\n",
       "      <td>0.99</td>\n",
       "      <td>0.925</td>\n",
       "      <td>13.4</td>\n",
       "      <td>42274.0</td>\n",
       "      <td>123294513</td>\n",
       "    </tr>\n",
       "    <tr>\n",
       "      <th>2</th>\n",
       "      <td>3</td>\n",
       "      <td>Singapore</td>\n",
       "      <td>105.89</td>\n",
       "      <td>Asia</td>\n",
       "      <td>0.97</td>\n",
       "      <td>0.939</td>\n",
       "      <td>11.9</td>\n",
       "      <td>90919.0</td>\n",
       "      <td>6014723</td>\n",
       "    </tr>\n",
       "    <tr>\n",
       "      <th>3</th>\n",
       "      <td>4</td>\n",
       "      <td>Hong Kong</td>\n",
       "      <td>105.37</td>\n",
       "      <td>Asia</td>\n",
       "      <td>0.94</td>\n",
       "      <td>0.952</td>\n",
       "      <td>12.2</td>\n",
       "      <td>62607.0</td>\n",
       "      <td>7491609</td>\n",
       "    </tr>\n",
       "    <tr>\n",
       "      <th>4</th>\n",
       "      <td>5</td>\n",
       "      <td>China</td>\n",
       "      <td>104.10</td>\n",
       "      <td>Asia</td>\n",
       "      <td>0.96</td>\n",
       "      <td>0.768</td>\n",
       "      <td>7.6</td>\n",
       "      <td>17504.0</td>\n",
       "      <td>1425671352</td>\n",
       "    </tr>\n",
       "    <tr>\n",
       "      <th>5</th>\n",
       "      <td>6</td>\n",
       "      <td>South Korea</td>\n",
       "      <td>102.35</td>\n",
       "      <td>Asia</td>\n",
       "      <td>0.98</td>\n",
       "      <td>0.925</td>\n",
       "      <td>12.5</td>\n",
       "      <td>44501.0</td>\n",
       "      <td>51784059</td>\n",
       "    </tr>\n",
       "    <tr>\n",
       "      <th>...</th>\n",
       "      <td>...</td>\n",
       "      <td>...</td>\n",
       "      <td>...</td>\n",
       "      <td>...</td>\n",
       "      <td>...</td>\n",
       "      <td>...</td>\n",
       "      <td>...</td>\n",
       "      <td>...</td>\n",
       "      <td>...</td>\n",
       "    </tr>\n",
       "    <tr>\n",
       "      <th>188</th>\n",
       "      <td>189</td>\n",
       "      <td>Gambia</td>\n",
       "      <td>52.68</td>\n",
       "      <td>Africa</td>\n",
       "      <td>0.58</td>\n",
       "      <td>0.500</td>\n",
       "      <td>4.6</td>\n",
       "      <td>2172.0</td>\n",
       "      <td>2773168</td>\n",
       "    </tr>\n",
       "    <tr>\n",
       "      <th>189</th>\n",
       "      <td>190</td>\n",
       "      <td>Guatemala</td>\n",
       "      <td>47.72</td>\n",
       "      <td>Central America</td>\n",
       "      <td>0.79</td>\n",
       "      <td>0.627</td>\n",
       "      <td>5.7</td>\n",
       "      <td>8723.0</td>\n",
       "      <td>18092026</td>\n",
       "    </tr>\n",
       "    <tr>\n",
       "      <th>190</th>\n",
       "      <td>191</td>\n",
       "      <td>Liberia</td>\n",
       "      <td>45.07</td>\n",
       "      <td>Africa</td>\n",
       "      <td>0.48</td>\n",
       "      <td>0.481</td>\n",
       "      <td>5.1</td>\n",
       "      <td>1289.0</td>\n",
       "      <td>5418377</td>\n",
       "    </tr>\n",
       "    <tr>\n",
       "      <th>191</th>\n",
       "      <td>192</td>\n",
       "      <td>Sierra Leone</td>\n",
       "      <td>45.07</td>\n",
       "      <td>Africa</td>\n",
       "      <td>0.48</td>\n",
       "      <td>0.477</td>\n",
       "      <td>4.6</td>\n",
       "      <td>1622.0</td>\n",
       "      <td>8791092</td>\n",
       "    </tr>\n",
       "    <tr>\n",
       "      <th>192</th>\n",
       "      <td>193</td>\n",
       "      <td>Nepal</td>\n",
       "      <td>42.99</td>\n",
       "      <td>Asia</td>\n",
       "      <td>0.65</td>\n",
       "      <td>0.602</td>\n",
       "      <td>5.1</td>\n",
       "      <td>3877.0</td>\n",
       "      <td>30896590</td>\n",
       "    </tr>\n",
       "  </tbody>\n",
       "</table>\n",
       "<p>179 rows × 9 columns</p>\n",
       "</div>"
      ],
      "text/plain": [
       "     Rank       Country  Average IQ        Continent  Literacy Rate  \\\n",
       "0       1         Japan      106.48             Asia           0.99   \n",
       "2       3     Singapore      105.89             Asia           0.97   \n",
       "3       4     Hong Kong      105.37             Asia           0.94   \n",
       "4       5         China      104.10             Asia           0.96   \n",
       "5       6   South Korea      102.35             Asia           0.98   \n",
       "..    ...           ...         ...              ...            ...   \n",
       "188   189        Gambia       52.68           Africa           0.58   \n",
       "189   190     Guatemala       47.72  Central America           0.79   \n",
       "190   191       Liberia       45.07           Africa           0.48   \n",
       "191   192  Sierra Leone       45.07           Africa           0.48   \n",
       "192   193         Nepal       42.99             Asia           0.65   \n",
       "\n",
       "     HDI (2021)  Mean years of schooling - 2021   GNI - 2021 Population - 2023  \n",
       "0         0.925                            13.4      42274.0         123294513  \n",
       "2         0.939                            11.9      90919.0           6014723  \n",
       "3         0.952                            12.2      62607.0           7491609  \n",
       "4         0.768                             7.6      17504.0        1425671352  \n",
       "5         0.925                            12.5      44501.0          51784059  \n",
       "..          ...                             ...          ...               ...  \n",
       "188       0.500                             4.6       2172.0           2773168  \n",
       "189       0.627                             5.7       8723.0          18092026  \n",
       "190       0.481                             5.1       1289.0           5418377  \n",
       "191       0.477                             4.6       1622.0           8791092  \n",
       "192       0.602                             5.1       3877.0          30896590  \n",
       "\n",
       "[179 rows x 9 columns]"
      ]
     },
     "execution_count": 2,
     "metadata": {},
     "output_type": "execute_result"
    }
   ],
   "source": [
    "import pandas as pd\n",
    "import numpy as np\n",
    "import matplotlib.pyplot as plt\n",
    "from sklearn.linear_model import LinearRegression\n",
    "df = pd.read_csv('avgIQpercountry.csv')\n",
    "df = df.drop(['Nobel Prices'],axis = 1)\n",
    "df = df.dropna(axis=0)\n",
    "df"
   ]
  },
  {
   "cell_type": "markdown",
   "metadata": {},
   "source": [
    "#### Find the Country with the highest Average IQ."
   ]
  },
  {
   "cell_type": "markdown",
   "metadata": {},
   "source": [
    "Since we use `reset_index()`, we can see Japan has the highest average IQ.  "
   ]
  },
  {
   "cell_type": "markdown",
   "metadata": {},
   "source": [
    "## Section 2: Exploratory Data Analysis"
   ]
  },
  {
   "cell_type": "markdown",
   "metadata": {},
   "source": [
    "Let's try to find the Average IQ and average Literacy Rate for Each Continent. I am wondering if there is a continent where people are smarter than other continents."
   ]
  },
  {
   "cell_type": "code",
   "execution_count": 3,
   "metadata": {},
   "outputs": [
    {
     "data": {
      "text/html": [
       "<div>\n",
       "<style scoped>\n",
       "    .dataframe tbody tr th:only-of-type {\n",
       "        vertical-align: middle;\n",
       "    }\n",
       "\n",
       "    .dataframe tbody tr th {\n",
       "        vertical-align: top;\n",
       "    }\n",
       "\n",
       "    .dataframe thead th {\n",
       "        text-align: right;\n",
       "    }\n",
       "</style>\n",
       "<table border=\"1\" class=\"dataframe\">\n",
       "  <thead>\n",
       "    <tr style=\"text-align: right;\">\n",
       "      <th></th>\n",
       "      <th>Continent</th>\n",
       "      <th>Average_IQ</th>\n",
       "      <th>Average_Literacy_Rate</th>\n",
       "    </tr>\n",
       "  </thead>\n",
       "  <tbody>\n",
       "    <tr>\n",
       "      <th>0</th>\n",
       "      <td>Africa</td>\n",
       "      <td>68.793469</td>\n",
       "      <td>0.676327</td>\n",
       "    </tr>\n",
       "    <tr>\n",
       "      <th>1</th>\n",
       "      <td>Asia</td>\n",
       "      <td>84.886591</td>\n",
       "      <td>0.894091</td>\n",
       "    </tr>\n",
       "    <tr>\n",
       "      <th>2</th>\n",
       "      <td>Central America</td>\n",
       "      <td>73.810000</td>\n",
       "      <td>0.907895</td>\n",
       "    </tr>\n",
       "    <tr>\n",
       "      <th>3</th>\n",
       "      <td>Europe</td>\n",
       "      <td>94.904878</td>\n",
       "      <td>0.988293</td>\n",
       "    </tr>\n",
       "    <tr>\n",
       "      <th>4</th>\n",
       "      <td>Europe/Asia</td>\n",
       "      <td>89.196667</td>\n",
       "      <td>0.986667</td>\n",
       "    </tr>\n",
       "    <tr>\n",
       "      <th>5</th>\n",
       "      <td>North America</td>\n",
       "      <td>94.893333</td>\n",
       "      <td>0.976667</td>\n",
       "    </tr>\n",
       "    <tr>\n",
       "      <th>6</th>\n",
       "      <td>Oceania</td>\n",
       "      <td>88.257500</td>\n",
       "      <td>0.888750</td>\n",
       "    </tr>\n",
       "    <tr>\n",
       "      <th>7</th>\n",
       "      <td>South America</td>\n",
       "      <td>83.783333</td>\n",
       "      <td>0.950000</td>\n",
       "    </tr>\n",
       "  </tbody>\n",
       "</table>\n",
       "</div>"
      ],
      "text/plain": [
       "         Continent  Average_IQ  Average_Literacy_Rate\n",
       "0           Africa   68.793469               0.676327\n",
       "1             Asia   84.886591               0.894091\n",
       "2  Central America   73.810000               0.907895\n",
       "3           Europe   94.904878               0.988293\n",
       "4      Europe/Asia   89.196667               0.986667\n",
       "5    North America   94.893333               0.976667\n",
       "6          Oceania   88.257500               0.888750\n",
       "7    South America   83.783333               0.950000"
      ]
     },
     "execution_count": 3,
     "metadata": {},
     "output_type": "execute_result"
    }
   ],
   "source": [
    "df = df.dropna()\n",
    "average_iq_literacy_by_continent = df.groupby('Continent').agg(\n",
    "    Average_IQ=('Average IQ', 'mean'),\n",
    "    Average_Literacy_Rate=('Literacy Rate', 'mean')\n",
    ").reset_index()\n",
    "\n",
    "# Display the DataFrame with average IQ and average Literacy Rate by continent\n",
    "average_iq_literacy_by_continent\n"
   ]
  },
  {
   "cell_type": "markdown",
   "metadata": {},
   "source": [
    "Now let's find the sameple size for each contnent. I am wondering if the sample size is big enough to make a conclusion."
   ]
  },
  {
   "cell_type": "code",
   "execution_count": 4,
   "metadata": {},
   "outputs": [
    {
     "data": {
      "text/html": [
       "<div>\n",
       "<style scoped>\n",
       "    .dataframe tbody tr th:only-of-type {\n",
       "        vertical-align: middle;\n",
       "    }\n",
       "\n",
       "    .dataframe tbody tr th {\n",
       "        vertical-align: top;\n",
       "    }\n",
       "\n",
       "    .dataframe thead th {\n",
       "        text-align: right;\n",
       "    }\n",
       "</style>\n",
       "<table border=\"1\" class=\"dataframe\">\n",
       "  <thead>\n",
       "    <tr style=\"text-align: right;\">\n",
       "      <th></th>\n",
       "      <th>Continent</th>\n",
       "      <th>Sample Size</th>\n",
       "    </tr>\n",
       "  </thead>\n",
       "  <tbody>\n",
       "    <tr>\n",
       "      <th>0</th>\n",
       "      <td>Africa</td>\n",
       "      <td>49</td>\n",
       "    </tr>\n",
       "    <tr>\n",
       "      <th>1</th>\n",
       "      <td>Asia</td>\n",
       "      <td>44</td>\n",
       "    </tr>\n",
       "    <tr>\n",
       "      <th>2</th>\n",
       "      <td>Central America</td>\n",
       "      <td>19</td>\n",
       "    </tr>\n",
       "    <tr>\n",
       "      <th>3</th>\n",
       "      <td>Europe</td>\n",
       "      <td>41</td>\n",
       "    </tr>\n",
       "    <tr>\n",
       "      <th>4</th>\n",
       "      <td>Europe/Asia</td>\n",
       "      <td>3</td>\n",
       "    </tr>\n",
       "    <tr>\n",
       "      <th>5</th>\n",
       "      <td>North America</td>\n",
       "      <td>3</td>\n",
       "    </tr>\n",
       "    <tr>\n",
       "      <th>6</th>\n",
       "      <td>Oceania</td>\n",
       "      <td>8</td>\n",
       "    </tr>\n",
       "    <tr>\n",
       "      <th>7</th>\n",
       "      <td>South America</td>\n",
       "      <td>12</td>\n",
       "    </tr>\n",
       "  </tbody>\n",
       "</table>\n",
       "</div>"
      ],
      "text/plain": [
       "         Continent  Sample Size\n",
       "0           Africa           49\n",
       "1             Asia           44\n",
       "2  Central America           19\n",
       "3           Europe           41\n",
       "4      Europe/Asia            3\n",
       "5    North America            3\n",
       "6          Oceania            8\n",
       "7    South America           12"
      ]
     },
     "execution_count": 4,
     "metadata": {},
     "output_type": "execute_result"
    }
   ],
   "source": [
    "sample_size_by_continent = df.groupby('Continent').size().reset_index(name='Sample Size')\n",
    "sample_size_by_continent"
   ]
  },
  {
   "cell_type": "markdown",
   "metadata": {},
   "source": [
    "### People Cotinent of Eqrope are more smarter than other continents, for example Africa?"
   ]
  },
  {
   "cell_type": "markdown",
   "metadata": {},
   "source": [
    "As we can see here, we got the result that the average IQ for each continent. The result is pretty interesting. The average IQ for each continent seems to be a little bit far. For example, the average IQ for Equope is 94.904878 which has the highest average IQ and for Africa, the Average IQ is 68.793469. The difference is 26.161409. This is a pretty big difference. However, we can not make a conclusion yet because the sample size for each continent is not big enough. For example, the sample size for Africa is 49. This is not big enough to make a conclusion. Therefore, we need to find the sample size for each continent."
   ]
  },
  {
   "cell_type": "markdown",
   "metadata": {},
   "source": [
    "## Section 3: Exploratory Data Visualization"
   ]
  },
  {
   "cell_type": "markdown",
   "metadata": {},
   "source": [
    "### Now, after we finish analyzing the average IQ for each continent, let's try to make these data more visualized."
   ]
  },
  {
   "cell_type": "markdown",
   "metadata": {},
   "source": [
    "#### First, Let's try to make a bar chart for the average IQ for each continent."
   ]
  },
  {
   "cell_type": "code",
   "execution_count": 7,
   "metadata": {},
   "outputs": [
    {
     "data": {
      "image/png": "[encoded data removed]",
      "text/plain": [
       "<Figure size 1000x600 with 1 Axes>"
      ]
     },
     "metadata": {},
     "output_type": "display_data"
    }
   ],
   "source": [
    "import matplotlib.pyplot as plt\n",
    "plt.figure(figsize=(10, 6))\n",
    "plt.bar(average_iq_literacy_by_continent['Continent'], average_iq_literacy_by_continent['Average_IQ'], color='skyblue')\n",
    "plt.title('Average IQ per Continent')\n",
    "plt.xlabel('Continent')\n",
    "plt.ylabel('Average IQ')\n",
    "plt.xticks(rotation=45)\n",
    "plt.tight_layout()\n",
    "plt.show()"
   ]
  },
  {
   "cell_type": "markdown",
   "metadata": {},
   "source": [
    "#### Next let's try to make a scatter plot for the sample size for each continent."
   ]
  },
  {
   "cell_type": "code",
   "execution_count": 8,
   "metadata": {},
   "outputs": [
    {
     "data": {
      "image/png": "[encoded data removed]",
      "text/plain": [
       "<Figure size 1000x600 with 1 Axes>"
      ]
     },
     "metadata": {},
     "output_type": "display_data"
    }
   ],
   "source": [
    "\n",
    "plt.figure(figsize=(10, 6))\n",
    "plt.scatter(average_iq_literacy_by_continent['Average_IQ'], average_iq_literacy_by_continent['Average_Literacy_Rate'], color='green', alpha=0.5)\n",
    "plt.title('Average IQ vs Literacy Rate')\n",
    "plt.xlabel('Average IQ')\n",
    "plt.ylabel('Literacy Rate')\n",
    "plt.grid(True)\n",
    "plt.show()"
   ]
  },
  {
   "cell_type": "markdown",
   "metadata": {},
   "source": [
    "#### Finally, we will make a conclusion."
   ]
  },
  {
   "cell_type": "markdown",
   "metadata": {},
   "source": [
    "For the second diagram, we can see, high Literacy Rate simply means high IQ. For Europe, they have highest average literacy rate and IQ, and Africa has the lowest average literacy rate and IQ. According to our basic knowledge, compared to Europe and the United States, Africa is far less developed and does not have such a high level of education and education penetration, so this result is not surprising. But we still can't say that Europeans are smarter than Africans."
   ]
  },
  {
   "cell_type": "markdown",
   "metadata": {},
   "source": [
    "## Sections 4: Data Science"
   ]
  },
  {
   "cell_type": "code",
   "execution_count": null,
   "metadata": {},
   "outputs": [
    {
     "data": {
      "text/html": [
       "<div>\n",
       "<style scoped>\n",
       "    .dataframe tbody tr th:only-of-type {\n",
       "        vertical-align: middle;\n",
       "    }\n",
       "\n",
       "    .dataframe tbody tr th {\n",
       "        vertical-align: top;\n",
       "    }\n",
       "\n",
       "    .dataframe thead th {\n",
       "        text-align: right;\n",
       "    }\n",
       "</style>\n",
       "<table border=\"1\" class=\"dataframe\">\n",
       "  <thead>\n",
       "    <tr style=\"text-align: right;\">\n",
       "      <th></th>\n",
       "      <th>Rank</th>\n",
       "      <th>Average IQ</th>\n",
       "      <th>Literacy Rate</th>\n",
       "      <th>HDI (2021)</th>\n",
       "      <th>Mean years of schooling - 2021</th>\n",
       "      <th>GNI - 2021</th>\n",
       "    </tr>\n",
       "  </thead>\n",
       "  <tbody>\n",
       "    <tr>\n",
       "      <th>Rank</th>\n",
       "      <td>1.000000</td>\n",
       "      <td>-0.974454</td>\n",
       "      <td>-0.623534</td>\n",
       "      <td>-0.777376</td>\n",
       "      <td>-0.727461</td>\n",
       "      <td>-0.661285</td>\n",
       "    </tr>\n",
       "    <tr>\n",
       "      <th>Average IQ</th>\n",
       "      <td>-0.974454</td>\n",
       "      <td>1.000000</td>\n",
       "      <td>0.633435</td>\n",
       "      <td>0.755459</td>\n",
       "      <td>0.705443</td>\n",
       "      <td>0.634854</td>\n",
       "    </tr>\n",
       "    <tr>\n",
       "      <th>Literacy Rate</th>\n",
       "      <td>-0.623534</td>\n",
       "      <td>0.633435</td>\n",
       "      <td>1.000000</td>\n",
       "      <td>0.815929</td>\n",
       "      <td>0.831993</td>\n",
       "      <td>0.501705</td>\n",
       "    </tr>\n",
       "    <tr>\n",
       "      <th>HDI (2021)</th>\n",
       "      <td>-0.777376</td>\n",
       "      <td>0.755459</td>\n",
       "      <td>0.815929</td>\n",
       "      <td>1.000000</td>\n",
       "      <td>0.914750</td>\n",
       "      <td>0.787799</td>\n",
       "    </tr>\n",
       "    <tr>\n",
       "      <th>Mean years of schooling - 2021</th>\n",
       "      <td>-0.727461</td>\n",
       "      <td>0.705443</td>\n",
       "      <td>0.831993</td>\n",
       "      <td>0.914750</td>\n",
       "      <td>1.000000</td>\n",
       "      <td>0.661834</td>\n",
       "    </tr>\n",
       "    <tr>\n",
       "      <th>GNI - 2021</th>\n",
       "      <td>-0.661285</td>\n",
       "      <td>0.634854</td>\n",
       "      <td>0.501705</td>\n",
       "      <td>0.787799</td>\n",
       "      <td>0.661834</td>\n",
       "      <td>1.000000</td>\n",
       "    </tr>\n",
       "  </tbody>\n",
       "</table>\n",
       "</div>"
      ],
      "text/plain": [
       "                                    Rank  Average IQ  Literacy Rate  \\\n",
       "Rank                            1.000000   -0.974454      -0.623534   \n",
       "Average IQ                     -0.974454    1.000000       0.633435   \n",
       "Literacy Rate                  -0.623534    0.633435       1.000000   \n",
       "HDI (2021)                     -0.777376    0.755459       0.815929   \n",
       "Mean years of schooling - 2021 -0.727461    0.705443       0.831993   \n",
       " GNI - 2021                    -0.661285    0.634854       0.501705   \n",
       "\n",
       "                                HDI (2021)  Mean years of schooling - 2021  \\\n",
       "Rank                             -0.777376                       -0.727461   \n",
       "Average IQ                        0.755459                        0.705443   \n",
       "Literacy Rate                     0.815929                        0.831993   \n",
       "HDI (2021)                        1.000000                        0.914750   \n",
       "Mean years of schooling - 2021    0.914750                        1.000000   \n",
       " GNI - 2021                       0.787799                        0.661834   \n",
       "\n",
       "                                 GNI - 2021  \n",
       "Rank                              -0.661285  \n",
       "Average IQ                         0.634854  \n",
       "Literacy Rate                      0.501705  \n",
       "HDI (2021)                         0.787799  \n",
       "Mean years of schooling - 2021     0.661834  \n",
       " GNI - 2021                        1.000000  "
      ]
     },
     "execution_count": 80,
     "metadata": {},
     "output_type": "execute_result"
    }
   ],
   "source": [
    "numeric_df = df.select_dtypes(include=[np.number])\n",
    "\n",
    "# Calculate the correlation matrix for numeric columns only\n",
    "correlation_matrix = numeric_df.corr()\n",
    "\n",
    "# Display the correlation matrix\n",
    "correlation_matrix"
   ]
  },
  {
   "cell_type": "code",
   "execution_count": 15,
   "metadata": {},
   "outputs": [
    {
     "data": {
      "text/plain": [
       "<Axes: xlabel='HDI (2021)', ylabel='Mean years of schooling - 2021'>"
      ]
     },
     "execution_count": 15,
     "metadata": {},
     "output_type": "execute_result"
    },
    {
     "data": {
      "image/png": "[encoded data removed]",
      "text/plain": [
       "<Figure size 640x480 with 1 Axes>"
      ]
     },
     "metadata": {},
     "output_type": "display_data"
    }
   ],
   "source": [
    "df.plot.scatter(x='HDI (2021)', y='Mean years of schooling - 2021')\n"
   ]
  },
  {
   "cell_type": "markdown",
   "metadata": {},
   "source": [
    "From Scatter Plot  above, you may have noticed that **HDI(2021)** and **Mean years of scholing - 2021** have significant **linear correlation**. \n",
    "\n",
    "We learned that **linear regression** allows us to predict values based on a \"line of best fit\". The equation for simple linear regression is:\n",
    "\n",
    "> $$y = (\\text{slope}) * X + \\text{intercept}$$\n",
    "\n",
    "For this portion of the lab, we will be using **linear regression** to explore the relationship between **HDI(2021)** (in square feet) and **pMean years of scholing - 2021**  in our `df`. \n",
    "\n",
    "We can apply formulas we have learned in lecture alongside Python to create a **linear regression model** to predict *Mean years of schooling - 2021** ($y$) given **HDI (2021)** ($X$)."
   ]
  },
  {
   "cell_type": "markdown",
   "metadata": {},
   "source": [
    "## Puzzle 2.1: Calculating Slope of the Regression Line\n",
    "In lecture, you learned how to **calculate the slope** of the regression line given your $X$ and $y$ columns of data. The formula is as follows:\n",
    "\n",
    "> $$\\text{slope} = r * \\frac{SD(y)}{SD(x)}$$\n",
    "\n",
    "Where $r$ is the correlation coefficient between $X$ and $y$, and $SD$ stands for standard deviation. \n",
    "\n",
    "With this, find the slope of the regression line where the dependent variable ($y$) is `HDI (2021)` and the independent variable ($X$) is `Mean years of schooling - 2021`, storing your answer in the **numeric variable** `slope` below:\n"
   ]
  },
  {
   "cell_type": "code",
   "execution_count": 25,
   "metadata": {},
   "outputs": [
    {
     "data": {
      "text/plain": [
       "19.08933796787343"
      ]
     },
     "execution_count": 25,
     "metadata": {},
     "output_type": "execute_result"
    }
   ],
   "source": [
    "numerical_cols = ['Average IQ', 'Literacy Rate', 'HDI (2021)', 'Mean years of schooling - 2021', 'Population - 2023']\n",
    "numeric_df = df[numerical_cols]\n",
    "correlation_matrix = numeric_df.corr()\n",
    "r = correlation_matrix.loc['HDI (2021)', 'Mean years of schooling - 2021']\n",
    "std_schooling = numeric_df['Mean years of schooling - 2021'].std()\n",
    "std_HDI = numeric_df['HDI (2021)'].std()\n",
    "slope = r * (std_schooling / std_HDI)\n",
    "slope"
   ]
  },
  {
   "cell_type": "markdown",
   "metadata": {},
   "source": [
    "**Calculating Intercept of the Regression Line**\n",
    "You also learned how to calculate the **y-intercept** of the regression line in lecture. The formula is as follows:\n",
    "\n",
    "> $$\\text{intercept} = \\text{avg}(y) - \\text{slope} * \\text{avg}(X)$$\n",
    "\n",
    "Find the **y-intercept** of the regression line between `Mean years of schooling - 2021` ($y$) and `HDI (2021)` ($X$), storing your result in the numeric variable `intercept` below: "
   ]
  },
  {
   "cell_type": "code",
   "execution_count": 27,
   "metadata": {},
   "outputs": [
    {
     "data": {
      "text/plain": [
       "-4.794535244244793"
      ]
     },
     "execution_count": 27,
     "metadata": {},
     "output_type": "execute_result"
    }
   ],
   "source": [
    "intercept = numeric_df['Mean years of schooling - 2021'].mean() - slope * numeric_df['HDI (2021)'].mean()\n",
    "intercept"
   ]
  },
  {
   "cell_type": "markdown",
   "metadata": {},
   "source": [
    "## Now, it's time to visualize our regression line!\n",
    "Now that we have calculated the **slope** and **y-intercept** of your regression line, let's **visualize** it. Run the following code that uses the `seaborn` library to **plot a regression line** on top of a scatter plot of between `HDI (2021)` and `Mean years of schooling - 2021` - your regression line will be **green**. "
   ]
  },
  {
   "cell_type": "code",
   "execution_count": 30,
   "metadata": {},
   "outputs": [
    {
     "name": "stdout",
     "output_type": "stream",
     "text": [
      "RESE is 8.84338819582873\n"
     ]
    },
    {
     "data": {
      "image/png": "[encoded data removed]",
      "text/plain": [
       "<Figure size 640x480 with 1 Axes>"
      ]
     },
     "metadata": {},
     "output_type": "display_data"
    }
   ],
   "source": [
    "import seaborn as sns\n",
    "from sklearn.metrics import mean_squared_error\n",
    "sns.regplot(data=df, x=\"HDI (2021)\", y=\"Mean years of schooling - 2021\", ci=None, line_kws={'color':'green'})\n",
    "RMSE = mean_squared_error(numeric_df[\"Mean years of schooling - 2021\"], numeric_df[\"HDI (2021)\"])**0.5\n",
    "print('RESE is', RMSE)\n"
   ]
  },
  {
   "cell_type": "markdown",
   "metadata": {},
   "source": [
    "## Summary for Section 4:"
   ]
  },
  {
   "cell_type": "markdown",
   "metadata": {},
   "source": [
    "The diagram is a scatter plot that visualizes the relationship between the Human Development Index (HDI) of 2021 and the mean years of schooling in 2021. The points on the plot represent different data points, presumably for different countries or regions.\n",
    "\n",
    "The Human Development Index is plotted on the x-axis, ranging approximately from 0.4 to 1.0. The mean years of schooling are plotted on the y-axis, with values ranging approximately from 2 to 14 years.\n",
    "\n",
    "A line of best fit has been added to the scatter plot, indicating a positive correlation between HDI and the mean years of schooling — as the HDI increases, the mean years of schooling also tends to increase. This suggests that higher human development is associated with longer periods of education.\n",
    "\n",
    "The plot also shows the Residual Standard Error (RSE) value, which is 8.4333819582873. This value gives an indication of the spread of the data points around the fitted line; in this context, it measures the standard deviation of the residuals (the vertical distances of the points from the line).\n",
    "\n",
    "In summary, the scatter plot suggests a strong positive correlation between a country's human development level and its educational attainment, with some variability as indicated by the RSE."
   ]
  },
  {
   "cell_type": "markdown",
   "metadata": {},
   "source": [
    "## Section 5: Summary"
   ]
  },
  {
   "cell_type": "markdown",
   "metadata": {},
   "source": [
    "##### In this lab, we learned how to use **linear regression** to predict values based on a \"line of best fit\". We also learned how to calculate the **slope** and **y-intercept** of a regression line, and how to visualize a regression line on top of a scatter plot.\n",
    "\n",
    "##### A big dataset from Kaggle was used in this independent data science project to investigate the fascinating relationships between Average IQ, Literacy Rate, Human Development Index (HDI), and other socioeconomic indicators across different continents. The project's goal was to cleanse the data, do exploratory data analysis, and illustrate the results in order to uncover relevant patterns and linkages.\n",
    "\n",
    "##### The first data cleaning procedure included deleting extraneous columns and dealing with missing values, laying the groundwork for a solid analysis. The exploratory phase found that Japan had the highest Average IQ, while data aggregation by continent revealed significant differences in Average IQ and Literacy Rates across different locations. While the experiment considered the intelligence quotient of whole continents, it advised against drawing broad generalizations due to the continents' different sample sizes.\n",
    "\n",
    "##### Bar charts and scatter plots were used in subsequent visualization efforts to better comprehend the distribution and connection between Average IQ and Literacy Rates. The visualizations revealed a significant positive association between HDI and mean years of schooling, implying that nations with higher human development indices had populations with more years of education.\n",
    "\n",
    "##### A linear regression model was created using data science approaches to estimate mean years of schooling based on HDI, finding a substantial linear association between both variables. The regression study, which included the determination of the slope and intercept, demonstrated HDI's predictive potential on educational outcomes.\n",
    "\n",
    "##### In conclusion, our study demonstrated the power of data science to reveal complicated socioeconomic patterns and spark significant conversations about global development. It exemplified the core of data-driven inquiry in answering questions about human development and educational achievement by demonstrating a careful approach to data analysis, from rigorous preparation to insightful interpretation."
   ]
  },
  {
   "cell_type": "markdown",
   "metadata": {},
   "source": []
  }
 ],
 "metadata": {
  "kernelspec": {
   "display_name": "Python 3",
   "language": "python",
   "name": "python3"
  },
  "language_info": {
   "codemirror_mode": {
    "name": "ipython",
    "version": 3
   },
   "file_extension": ".py",
   "mimetype": "text/x-python",
   "name": "python",
   "nbconvert_exporter": "python",
   "pygments_lexer": "ipython3",
   "version": "3.11.4"
  },
  "orig_nbformat": 4
 },
 "nbformat": 4,
 "nbformat_minor": 2
}
